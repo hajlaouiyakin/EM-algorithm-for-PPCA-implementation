{
 "cells": [
  {
   "cell_type": "code",
   "execution_count": 151,
   "metadata": {},
   "outputs": [],
   "source": [
    "import numpy as np \n",
    "import scipy as sc \n",
    "from scipy.stats import multivariate_normal\n",
    "from numpy.linalg import inv\n",
    "from numpy import linalg as LA\n",
    "from matplotlib import pyplot as plt"
   ]
  },
  {
   "cell_type": "code",
   "execution_count": 303,
   "metadata": {},
   "outputs": [
    {
     "data": {
      "text/plain": [
       "(2, 1)"
      ]
     },
     "execution_count": 303,
     "metadata": {},
     "output_type": "execute_result"
    }
   ],
   "source": [
    "# Sample  observed data x from a given multivariate normal\n",
    "mean = [0.5, 0.2]\n",
    "var = [[1,0.3],[0.3,0.5]]\n",
    "x= np.random.multivariate_normal(mean, var,100)\n",
    "\n",
    "# Initilize loading matrix that corresponds to the following PPCA model:\n",
    "# x= Wz + epsilone, where epsilone ~ N(0, sigma**2*I), whre dim(z) = 1\n",
    "W_in = np.array([[1,0]] )\n",
    "W_in.shape\n",
    "W_in = W_in.transpose()\n",
    "\n",
    "W_in.shape"
   ]
  },
  {
   "cell_type": "code",
   "execution_count": 304,
   "metadata": {},
   "outputs": [],
   "source": [
    "# Compute the E-step\n",
    "# x= Wz + epsilone, where epsilone ~ N(0, sigma**2*I)\n",
    "def E_step(W, x, sigma):  \n",
    "    A=np.matmul(inv(np.matmul(np.transpose(W),W) + sigma**2*np.eye(1)), np.transpose(W))\n",
    "    z=np.transpose(np.matmul(A, np.transpose(x)))\n",
    "    return z\n"
   ]
  },
  {
   "cell_type": "code",
   "execution_count": 305,
   "metadata": {},
   "outputs": [],
   "source": [
    "# Compute the M-step\n",
    "def M_step(x, z):\n",
    "    A = inv(np.dot(np.transpose(z),z)) \n",
    "    W = np.dot(np.dot(np.transpose(x),z),A)\n",
    "    return W"
   ]
  },
  {
   "cell_type": "code",
   "execution_count": 306,
   "metadata": {},
   "outputs": [],
   "source": [
    "# EM algorithm for PPCA\n",
    "def EM_PPCA(x, W,sigma, epsilone):\n",
    "   \n",
    "    while True:\n",
    "        \n",
    "        W_in = W\n",
    "        z= E_step(W,x, sigma)\n",
    "        W=M_step(x,z)\n",
    "        if LA.norm(W-W_in)<= epsilone:\n",
    "            break\n",
    "            \n",
    "    return W\n",
    "    \n"
   ]
  },
  {
   "cell_type": "code",
   "execution_count": 307,
   "metadata": {},
   "outputs": [
    {
     "data": {
      "text/plain": [
       "array([[183.83395262],\n",
       "       [ 78.77256135]])"
      ]
     },
     "execution_count": 307,
     "metadata": {},
     "output_type": "execute_result"
    }
   ],
   "source": [
    "W_opt  = EM_PPCA(x, W_in,0.1, 0.00005)\n",
    "W_opt.shape\n",
    "W_opt"
   ]
  },
  {
   "cell_type": "code",
   "execution_count": 308,
   "metadata": {},
   "outputs": [
    {
     "data": {
      "text/plain": [
       "(2, 1)"
      ]
     },
     "execution_count": 308,
     "metadata": {},
     "output_type": "execute_result"
    }
   ],
   "source": [
    "W_opt.shape"
   ]
  },
  {
   "cell_type": "code",
   "execution_count": 309,
   "metadata": {},
   "outputs": [
    {
     "data": {
      "text/plain": [
       "array([[ 0.00842522],\n",
       "       [ 0.0011184 ],\n",
       "       [-0.00503213],\n",
       "       [ 0.00897454],\n",
       "       [ 0.0094215 ],\n",
       "       [ 0.00636677],\n",
       "       [-0.00467986],\n",
       "       [ 0.00666766],\n",
       "       [-0.00210382],\n",
       "       [ 0.00661292],\n",
       "       [ 0.00083648],\n",
       "       [-0.00129456],\n",
       "       [-0.01520038],\n",
       "       [ 0.00650454],\n",
       "       [-0.00226987],\n",
       "       [ 0.00957272],\n",
       "       [-0.00475464],\n",
       "       [ 0.00166945],\n",
       "       [ 0.00403151],\n",
       "       [-0.00245789],\n",
       "       [ 0.01468991],\n",
       "       [ 0.00815414],\n",
       "       [ 0.00457426],\n",
       "       [ 0.00760987],\n",
       "       [-0.00048175],\n",
       "       [ 0.00457784],\n",
       "       [ 0.00566714],\n",
       "       [ 0.00166124],\n",
       "       [ 0.00305145],\n",
       "       [ 0.00192924],\n",
       "       [ 0.00754973],\n",
       "       [ 0.00463116],\n",
       "       [-0.00406535],\n",
       "       [ 0.00042436],\n",
       "       [ 0.00763927],\n",
       "       [ 0.01146014],\n",
       "       [ 0.00808458],\n",
       "       [ 0.01211375],\n",
       "       [ 0.0004321 ],\n",
       "       [ 0.00235567],\n",
       "       [ 0.001642  ],\n",
       "       [ 0.00306172],\n",
       "       [ 0.00301278],\n",
       "       [ 0.00845658],\n",
       "       [-0.00030675],\n",
       "       [-0.00343115],\n",
       "       [-0.00077503],\n",
       "       [-0.00016368],\n",
       "       [ 0.00453602],\n",
       "       [-0.00270019],\n",
       "       [ 0.00910117],\n",
       "       [ 0.00352406],\n",
       "       [ 0.00643569],\n",
       "       [ 0.00601989],\n",
       "       [ 0.00485885],\n",
       "       [ 0.00595647],\n",
       "       [-0.00266805],\n",
       "       [ 0.00240061],\n",
       "       [ 0.01128561],\n",
       "       [ 0.01467376],\n",
       "       [ 0.00479141],\n",
       "       [-0.00581189],\n",
       "       [ 0.00492986],\n",
       "       [ 0.00493445],\n",
       "       [ 0.00011049],\n",
       "       [ 0.01581031],\n",
       "       [-0.00263341],\n",
       "       [ 0.00460227],\n",
       "       [-0.00091164],\n",
       "       [ 0.00083923],\n",
       "       [ 0.00412844],\n",
       "       [ 0.00237832],\n",
       "       [-0.00268725],\n",
       "       [ 0.01078803],\n",
       "       [ 0.00256336],\n",
       "       [-0.00633444],\n",
       "       [ 0.01268778],\n",
       "       [ 0.01633861],\n",
       "       [ 0.00622663],\n",
       "       [ 0.00096785],\n",
       "       [-0.00326697],\n",
       "       [ 0.00762433],\n",
       "       [ 0.00862403],\n",
       "       [-0.0084163 ],\n",
       "       [ 0.004975  ],\n",
       "       [ 0.00715068],\n",
       "       [-0.00063871],\n",
       "       [ 0.00726323],\n",
       "       [ 0.01190377],\n",
       "       [ 0.01626217],\n",
       "       [ 0.00032644],\n",
       "       [ 0.0114735 ],\n",
       "       [ 0.0109021 ],\n",
       "       [ 0.00365247],\n",
       "       [ 0.00400745],\n",
       "       [ 0.00409583],\n",
       "       [ 0.00961433],\n",
       "       [ 0.0103586 ],\n",
       "       [ 0.00927705],\n",
       "       [ 0.00942484]])"
      ]
     },
     "execution_count": 309,
     "metadata": {},
     "output_type": "execute_result"
    }
   ],
   "source": [
    "# Encoding \n",
    "z= E_step(W_opt, x, 0.1)\n",
    "z  # posterior mean of p(z_i|x_i)"
   ]
  },
  {
   "cell_type": "code",
   "execution_count": 310,
   "metadata": {},
   "outputs": [],
   "source": [
    "# Decoding\n",
    "x_hat  = np.transpose(np.dot(W_opt, np.transpose(z)))"
   ]
  },
  {
   "cell_type": "code",
   "execution_count": 311,
   "metadata": {},
   "outputs": [],
   "source": [
    "# plotting\n",
    "def plot_ppca(x,x_hat, z, W):\n",
    "    fig ,ax= plt.subplots()\n",
    "    ax.scatter(x[:,0],x[:,1], color='r', label ='original data ')\n",
    "    ax.scatter(x_hat[:,0],x_hat[:,1], color='gray', label='Projected data in latent space')\n",
    "    origin = np.array([[0],[0]])\n",
    "    ax.quiver(*origin, W_opt[0,:], W_opt[1,:], color='black', scale=100, scale_units='xy', label='first PPCA component')\n",
    "    plt.xlabel(\"x1\")\n",
    "    plt.ylabel(\"x2\")\n",
    "    leg = ax.legend(loc='upper left', frameon=False);\n",
    "    #plt.scatter()\n",
    "    \n",
    "    fig.show()\n"
   ]
  },
  {
   "cell_type": "code",
   "execution_count": 312,
   "metadata": {},
   "outputs": [
    {
     "name": "stderr",
     "output_type": "stream",
     "text": [
      "C:\\Users\\Yakin\\Miniconda3\\lib\\site-packages\\ipykernel_launcher.py:13: UserWarning: Matplotlib is currently using module://ipykernel.pylab.backend_inline, which is a non-GUI backend, so cannot show the figure.\n",
      "  del sys.path[0]\n"
     ]
    },
    {
     "data": {
      "image/png": "[encoded data removed]",
      "text/plain": [
       "<Figure size 432x288 with 1 Axes>"
      ]
     },
     "metadata": {
      "needs_background": "light"
     },
     "output_type": "display_data"
    }
   ],
   "source": [
    "plot_ppca(x,x_hat,z, W_opt)"
   ]
  },
  {
   "cell_type": "code",
   "execution_count": null,
   "metadata": {},
   "outputs": [],
   "source": []
  }
 ],
 "metadata": {
  "kernelspec": {
   "display_name": "Python 3",
   "language": "python",
   "name": "python3"
  },
  "language_info": {
   "codemirror_mode": {
    "name": "ipython",
    "version": 3
   },
   "file_extension": ".py",
   "mimetype": "text/x-python",
   "name": "python",
   "nbconvert_exporter": "python",
   "pygments_lexer": "ipython3",
   "version": "3.7.7"
  }
 },
 "nbformat": 4,
 "nbformat_minor": 4
}
